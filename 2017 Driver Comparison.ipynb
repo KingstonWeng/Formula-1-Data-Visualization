{
 "cells": [
  {
   "cell_type": "markdown",
   "metadata": {},
   "source": [
    "# Import"
   ]
  },
  {
   "cell_type": "code",
   "execution_count": 107,
   "metadata": {},
   "outputs": [],
   "source": [
    "import pandas as pd\n",
    "import matplotlib.pyplot as plt\n",
    "import numpy as np"
   ]
  },
  {
   "cell_type": "markdown",
   "metadata": {},
   "source": [
    "# Drivers"
   ]
  },
  {
   "cell_type": "code",
   "execution_count": 108,
   "metadata": {},
   "outputs": [],
   "source": [
    "drivers = pd.read_csv('drivers.csv', encoding = \"ISO-8859-1\")"
   ]
  },
  {
   "cell_type": "markdown",
   "metadata": {},
   "source": [
    "# Results"
   ]
  },
  {
   "cell_type": "code",
   "execution_count": 109,
   "metadata": {},
   "outputs": [],
   "source": [
    "results = pd.read_csv('results.csv', encoding = \"ISO-8859-1\")"
   ]
  },
  {
   "cell_type": "markdown",
   "metadata": {},
   "source": [
    "# Races"
   ]
  },
  {
   "cell_type": "code",
   "execution_count": 110,
   "metadata": {},
   "outputs": [],
   "source": [
    "races = pd.read_csv('races.csv', encoding = \"ISO-8859-1\")"
   ]
  },
  {
   "cell_type": "markdown",
   "metadata": {},
   "source": [
    "# Constructors"
   ]
  },
  {
   "cell_type": "code",
   "execution_count": 111,
   "metadata": {},
   "outputs": [],
   "source": [
    "constructors = pd.read_csv('constructors.csv', encoding = \"ISO-8859-1\")"
   ]
  },
  {
   "cell_type": "markdown",
   "metadata": {},
   "source": [
    "# Pre-processing Dataframes"
   ]
  },
  {
   "cell_type": "code",
   "execution_count": 112,
   "metadata": {},
   "outputs": [],
   "source": [
    "# Merged Constructors, Races, Results, Drivers.\n",
    "combined1 = pd.merge(results, races, how=\"left\", on=\"raceId\")\n",
    "combined2 = pd.merge(combined1, drivers, how=\"left\", on=\"driverId\")\n",
    "combined = pd.merge(combined2, constructors, how=\"left\", on=\"constructorId\")"
   ]
  },
  {
   "cell_type": "code",
   "execution_count": 113,
   "metadata": {},
   "outputs": [],
   "source": [
    "# Filters the needed columns\n",
    "filtered = combined[[ \"name_y\", \"year\", \"name_x\", \"code\",  \"position\"]]"
   ]
  },
  {
   "cell_type": "code",
   "execution_count": 114,
   "metadata": {},
   "outputs": [],
   "source": [
    "# Sort Scruderia names, year and Grand Prix names.\n",
    "grouped = filtered.sort_values([\"name_y\", \"year\", \"name_x\"])"
   ]
  },
  {
   "cell_type": "code",
   "execution_count": 116,
   "metadata": {},
   "outputs": [],
   "source": [
    "# Choose data from year 2017.\n",
    "grouped2017 = grouped.loc[filtered['year'] == 2017]"
   ]
  },
  {
   "cell_type": "markdown",
   "metadata": {},
   "source": [
    "# Processing"
   ]
  },
  {
   "cell_type": "code",
   "execution_count": 117,
   "metadata": {},
   "outputs": [],
   "source": [
    "dict2017 = {}"
   ]
  },
  {
   "cell_type": "markdown",
   "metadata": {},
   "source": [
    "### Turn Dataframe into a nested Dictionary"
   ]
  },
  {
   "cell_type": "code",
   "execution_count": 118,
   "metadata": {},
   "outputs": [
    {
     "data": {
      "text/plain": [
       "{'Ferrari': {'VET': 0, 'RAI': 0},\n",
       " 'Force India': {'PER': 0, 'OCO': 0},\n",
       " 'Haas F1 Team': {'GRO': 0, 'MAG': 0},\n",
       " 'McLaren': {'ALO': 0, 'VAN': 0},\n",
       " 'Mercedes': {'BOT': 0, 'HAM': 0},\n",
       " 'Red Bull': {'VER': 0, 'RIC': 0},\n",
       " 'Renault': {'HUL': 0, 'PAL': 0},\n",
       " 'Sauber': {'WEH': 0, 'ERI': 0},\n",
       " 'Williams': {'MAS': 0, 'STR': 0}}"
      ]
     },
     "execution_count": 118,
     "metadata": {},
     "output_type": "execute_result"
    }
   ],
   "source": [
    "# Create nested Dictionary and keys.\n",
    "for row in grouped2017.iterrows():\n",
    "    if row[1][\"name_y\"] not in dict2017:\n",
    "        dict2017[row[1][\"name_y\"]] = {}\n",
    "\n",
    "    if (\"\".join(row[1][\"code\"])) not in dict2017[row[1][\"name_y\"]]:\n",
    "        # Remove substitute drivers\n",
    "        if (\"\".join(row[1][\"code\"]) not in [\"BUT\", \"DIR\", \"GIO\", \"SAI\"]):\n",
    "            dict2017[row[1][\"name_y\"]][\"\".join(row[1][\"code\"])] = 0\n",
    "\n",
    "# Remove Toro Rosso because its unstable roster.\n",
    "dict2017.pop(\"Toro Rosso\")\n",
    "dict2017\n",
    "    "
   ]
  },
  {
   "cell_type": "code",
   "execution_count": 119,
   "metadata": {},
   "outputs": [
    {
     "name": "stderr",
     "output_type": "stream",
     "text": [
      "C:\\Users\\K Weng\\AppData\\Local\\Temp\\ipykernel_20156\\2871833273.py:2: SettingWithCopyWarning: \n",
      "A value is trying to be set on a copy of a slice from a DataFrame.\n",
      "Try using .loc[row_indexer,col_indexer] = value instead\n",
      "\n",
      "See the caveats in the documentation: https://pandas.pydata.org/pandas-docs/stable/user_guide/indexing.html#returning-a-view-versus-a-copy\n",
      "  grouped2017[[\"shiftedOrder\", \"shiftedCode\"]] = grouped2017[[\"position\", \"code\"]].shift(-1)\n",
      "C:\\Users\\K Weng\\AppData\\Local\\Temp\\ipykernel_20156\\2871833273.py:2: SettingWithCopyWarning: \n",
      "A value is trying to be set on a copy of a slice from a DataFrame.\n",
      "Try using .loc[row_indexer,col_indexer] = value instead\n",
      "\n",
      "See the caveats in the documentation: https://pandas.pydata.org/pandas-docs/stable/user_guide/indexing.html#returning-a-view-versus-a-copy\n",
      "  grouped2017[[\"shiftedOrder\", \"shiftedCode\"]] = grouped2017[[\"position\", \"code\"]].shift(-1)\n"
     ]
    }
   ],
   "source": [
    "# Move the next row up to the current row for comparison purposes.\n",
    "grouped2017[[\"shiftedOrder\", \"shiftedCode\"]] = grouped2017[[\"position\", \"code\"]].shift(-1)\n",
    "\n",
    "# Remove every second row that's being copied and moved up.\n",
    "grouped2017 = grouped2017[::2]\n",
    "\n",
    "# Remove Toro Rosso records.\n",
    "grouped2017removedTR = grouped2017.loc[grouped2017[\"name_y\"] != \"Toro Rosso\"]\n",
    "\n",
    "# Remove records related to substitute drivers.\n",
    "removeList = [\"BUT\", \"DIR\", \"GIO\", \"SAI\"]\n",
    "\n",
    "grouped2017removedTR = grouped2017removedTR.loc[~grouped2017[\"code\"].isin(removeList)]\n",
    "\n",
    "finalDataset = grouped2017removedTR.loc[~grouped2017[\"shiftedCode\"].isin(removeList)]"
   ]
  },
  {
   "cell_type": "code",
   "execution_count": 120,
   "metadata": {},
   "outputs": [
    {
     "data": {
      "text/plain": [
       "{'Ferrari': {'VET': 15, 'RAI': 5},\n",
       " 'Force India': {'PER': 12, 'OCO': 8},\n",
       " 'Haas F1 Team': {'GRO': 9, 'MAG': 11},\n",
       " 'McLaren': {'ALO': 12, 'VAN': 7},\n",
       " 'Mercedes': {'BOT': 9, 'HAM': 11},\n",
       " 'Red Bull': {'VER': 12, 'RIC': 8},\n",
       " 'Renault': {'HUL': 8, 'PAL': 8},\n",
       " 'Sauber': {'WEH': 10, 'ERI': 8},\n",
       " 'Williams': {'MAS': 11, 'STR': 8}}"
      ]
     },
     "execution_count": 120,
     "metadata": {},
     "output_type": "execute_result"
    }
   ],
   "source": [
    "# Fill in the nested dictionary\n",
    "for row in finalDataset.iterrows():\n",
    "    # If the current driver is higher place than his teammate, add 1 to the current driver.\n",
    "    if (row[1][\"position\"] < row[1][\"shiftedOrder\"]):\n",
    "        dict2017[row[1][\"name_y\"]][row[1][\"code\"]] += 1\n",
    "    # If the current driver is lower place than his teammate, add 1 to the teammate.\n",
    "    else:\n",
    "        dict2017[row[1][\"name_y\"]][row[1][\"shiftedCode\"]] += 1\n",
    "\n",
    "dict2017"
   ]
  },
  {
   "cell_type": "markdown",
   "metadata": {},
   "source": [
    "# Transform dictionary into lists"
   ]
  },
  {
   "cell_type": "code",
   "execution_count": 121,
   "metadata": {},
   "outputs": [
    {
     "name": "stdout",
     "output_type": "stream",
     "text": [
      "['Ferrari', 'Force India', 'Haas F1 Team', 'McLaren', 'Mercedes', 'Red Bull', 'Renault', 'Sauber', 'Williams']\n",
      "['VET', 'PER', 'GRO', 'ALO', 'BOT', 'VER', 'HUL', 'WEH', 'MAS']\n",
      "[15, 12, 9, 12, 9, 12, 8, 10, 11]\n",
      "['RAI', 'OCO', 'MAG', 'VAN', 'HAM', 'RIC', 'PAL', 'ERI', 'STR']\n",
      "[5, 8, 11, 7, 11, 8, 8, 8, 8]\n"
     ]
    }
   ],
   "source": [
    "teamNames = []\n",
    "firstDriver = []\n",
    "firstDriverTimes = []\n",
    "secondDriver = []\n",
    "secondDriverTimes = []\n",
    "\n",
    "for scuderia, drivers in dict2017.items():\n",
    "    teamNames.append(scuderia)\n",
    "\n",
    "    counter = 0\n",
    "    for driver in drivers.items():\n",
    "        if (counter % 2 == 0):\n",
    "            firstDriver.append(driver[0])\n",
    "            firstDriverTimes.append(driver[1])\n",
    "        else:\n",
    "            secondDriver.append(driver[0])\n",
    "            secondDriverTimes.append(driver[1])\n",
    "        counter += 1\n",
    "\n",
    "print(teamNames)\n",
    "print(firstDriver)\n",
    "print(firstDriverTimes)\n",
    "print(secondDriver)\n",
    "print(secondDriverTimes)\n",
    "        "
   ]
  },
  {
   "cell_type": "markdown",
   "metadata": {},
   "source": [
    "# Feed the lists and plot them"
   ]
  },
  {
   "cell_type": "code",
   "execution_count": 125,
   "metadata": {},
   "outputs": [
    {
     "data": {
      "image/png": "[encoded data removed]",
      "text/plain": [
       "<Figure size 640x480 with 1 Axes>"
      ]
     },
     "metadata": {},
     "output_type": "display_data"
    }
   ],
   "source": [
    "ind = np.arange(len(teamNames))\n",
    "width = 0.4\n",
    "\n",
    "# Color for each scuderia\n",
    "color = [\"#C30000\", \"#FF80C7\", \"#6C0000\", \"#FF7B08\", \"#00CFBA\", \"#00007D\", \"#FFD800\", \"#900000\", \"#005AFF\"]\n",
    "\n",
    "fig, ax = plt.subplots()\n",
    "# Set title\n",
    "ax.set_title(\"Times when 2017 drivers outperformed their teammates\")\n",
    "\n",
    "# Plot bars\n",
    "rect1 = ax.barh(ind, firstDriverTimes, width, color= color, edgecolor = \"black\")\n",
    "rect2 = ax.barh(ind+width, secondDriverTimes, width, color= color, edgecolor = \"black\")\n",
    "\n",
    "# Plot bar labels\n",
    "ax.bar_label(rect1, labels=firstDriver, padding=1, label_type=\"edge\")\n",
    "ax.bar_label(rect2, labels=secondDriver, padding=1, label_type=\"edge\")\n",
    "\n",
    "ax.set(yticks=ind + width, yticklabels=teamNames)\n",
    "\n",
    "plt.show()\n"
   ]
  }
 ],
 "metadata": {
  "kernelspec": {
   "display_name": "base",
   "language": "python",
   "name": "python3"
  },
  "language_info": {
   "codemirror_mode": {
    "name": "ipython",
    "version": 3
   },
   "file_extension": ".py",
   "mimetype": "text/x-python",
   "name": "python",
   "nbconvert_exporter": "python",
   "pygments_lexer": "ipython3",
   "version": "3.11.4"
  },
  "orig_nbformat": 4
 },
 "nbformat": 4,
 "nbformat_minor": 2
}
